{
 "cells": [
  {
   "cell_type": "markdown",
   "metadata": {},
   "source": [
    "# Getting started with Classy Vision"
   ]
  },
  {
   "cell_type": "markdown",
   "metadata": {},
   "source": [
    "Classy Vision is an end-to-end framework for image and video classification. Classy Vision makes it easy to write and launch distributed training jobs.\n",
    "\n",
    "In this tutorial, we will cover:\n",
    "1. How to start a new project;\n",
    "2. How to launch a single node training run; \n",
    "3. How to launch a distributed training run; \n",
    "4. How to visualize results with Tensorboard; \n",
    "5. How to load checkpoints and interact with the trained model; \n",
    "6. How to start training from a Jupyter notebook;\n",
    "7. How to train a ResNet 50 model on ImageNet;\n",
    "\n",
    "## 0. Setup\n",
    "\n",
    "Make sure you have Classy Vision installed. To install it, run this in your terminal:"
   ]
  },
  {
   "cell_type": "code",
   "execution_count": null,
   "metadata": {
    "collapsed": true
   },
   "outputs": [],
   "source": [
    "! pip install classy_vision"
   ]
  },
  {
   "cell_type": "markdown",
   "metadata": {},
   "source": [
    "If you would like to use GPUs for training, make sure your environment has a working version of PyTorch with CUDA:"
   ]
  },
  {
   "cell_type": "code",
   "execution_count": null,
   "metadata": {
    "collapsed": true
   },
   "outputs": [],
   "source": [
    "import torch\n",
    "torch.cuda.is_available()"
   ]
  },
  {
   "cell_type": "markdown",
   "metadata": {},
   "source": [
    "The cell above should output `True`. Check out [this link](https://pytorch.org/get-started/locally/) for more details on how to install PyTorch. For this tutorial, we will be using [Tensorboard](https://www.tensorflow.org/tensorboard). Install it with the following (on your terminal):"
   ]
  },
  {
   "cell_type": "code",
   "execution_count": null,
   "metadata": {
    "collapsed": true
   },
   "outputs": [],
   "source": [
    "! pip install tensorboard tensorboardX"
   ]
  },
  {
   "cell_type": "markdown",
   "metadata": {},
   "source": [
    "## 1. Start a new project\n",
    "\n",
    "To start, let's create a new project. Run this in your terminal:"
   ]
  },
  {
   "cell_type": "code",
   "execution_count": null,
   "metadata": {
    "collapsed": true
   },
   "outputs": [],
   "source": [
    "! classy-project my-project"
   ]
  },
  {
   "cell_type": "code",
   "execution_count": null,
   "metadata": {
    "collapsed": true
   },
   "outputs": [],
   "source": [
    "%cd my-project"
   ]
  },
  {
   "cell_type": "markdown",
   "metadata": {},
   "source": [
    "To launch a training run on the current machine, run the following:"
   ]
  },
  {
   "cell_type": "code",
   "execution_count": null,
   "metadata": {
    "collapsed": true
   },
   "outputs": [],
   "source": [
    "!  ./classy_train.py --config configs/template_config.json"
   ]
  },
  {
   "cell_type": "markdown",
   "metadata": {},
   "source": [
    "That's it! You've launched your first training run. This trained a small MLP model on a dataset made of random noise, which is not that useful. The `classy-project` utility creates the scaffolding for you project, and you should modify it according to your needs. We'll learn how to customize your runs on the next few tutorials.\n",
    "\n",
    "Let's take a look at what `classy-project` has created for us:"
   ]
  },
  {
   "cell_type": "code",
   "execution_count": null,
   "metadata": {
    "collapsed": true
   },
   "outputs": [],
   "source": [
    "! find . | grep -v \\.pyc | sort"
   ]
  },
  {
   "cell_type": "markdown",
   "metadata": {},
   "source": [
    "Here's what each folder means:\n",
    "\n",
    " * `configs`: stores your experiment configurations. Keeping all your experiments as separate configuration files helps making your research reproducible;\n",
    " * `models`: code for your custom model architectures;\n",
    " * `losses`: code for your custom loss functions;\n",
    " * `datasets`: code for your custom datasets;\n",
    " * `classy_train.py`: script to execute a training job; This uses the Classy Vision library to configure the job and execute it, and you might change it according to your needs;\n",
    " * `template_config.json`: experiment configuration file. This file is read by `classy_train.py` to configure your training job and launch it."
   ]
  },
  {
   "cell_type": "markdown",
   "metadata": {},
   "source": [
    "Let's take a peek at the configuration file:"
   ]
  },
  {
   "cell_type": "code",
   "execution_count": null,
   "metadata": {
    "collapsed": true
   },
   "outputs": [],
   "source": [
    "! cat configs/template_config.json"
   ]
  },
  {
   "cell_type": "markdown",
   "metadata": {},
   "source": [
    "That file can be shared with other researchers whenever you want them to reproduce your experiments. We generate `json` files by default, but `YAML` will be officially supported soon.\n",
    "\n",
    "## 2. Distributed training\n",
    "\n",
    "`classy_train.py` can also be called from `torch.distributed.launch`, similar to regular PyTorch distributed scripts:"
   ]
  },
  {
   "cell_type": "code",
   "execution_count": null,
   "metadata": {
    "collapsed": true
   },
   "outputs": [],
   "source": [
    "! python -m torch.distributed.launch --use_env --nproc_per_node=2 ./classy_train.py --config configs/template_config.json --distributed_backend ddp"
   ]
  },
  {
   "cell_type": "markdown",
   "metadata": {},
   "source": [
    "If you have two GPUs on your current machine, that command will launch one process per GPU and start a [DistributedDataParallel](https://pytorch.org/tutorials/intermediate/ddp_tutorial.html) training run. \n",
    "\n",
    "## 3. Tensorboard integration\n",
    "\n",
    "[Tensorboard](https://www.tensorflow.org/tensorboard) is a very useful tool for visualizing training progress. Classy Vision works with tensorboard out-of-the-box, just make sure you have it installed as described in the Setup section. By default `classy_train.py` will output tensorboard data in a subdirectory of your project directory (typically named `output_<timestamp>/tensorboard`), so in our case we can just launch tensorboard in the current working directory:"
   ]
  },
  {
   "cell_type": "code",
   "execution_count": null,
   "metadata": {
    "collapsed": true,
    "scrolled": true
   },
   "outputs": [],
   "source": [
    "%load_ext tensorboard\n",
    "%tensorboard --logdir ."
   ]
  },
  {
   "cell_type": "markdown",
   "metadata": {},
   "source": [
    "You can also customize the tensorboard output directory by editing `classy_train.py`."
   ]
  },
  {
   "cell_type": "markdown",
   "metadata": {},
   "source": [
    "## 4. Loading checkpoints\n",
    "\n",
    "Now that we've run `classy_train.py`, let's see how to load the resulting model. At the end of execution, `classy_train.py` will print the checkpoint directory used for that run. Each run will output to a different directory, typically named `output_<timestamp>/checkpoints`. This can be configured by passing the `--checkpoint_folder` argument to `classy_train.py`"
   ]
  },
  {
   "cell_type": "code",
   "execution_count": null,
   "metadata": {
    "collapsed": true
   },
   "outputs": [],
   "source": [
    "from classy_vision.generic.util import load_checkpoint\n",
    "from classy_vision.models import ClassyModel\n",
    "\n",
    "# This is important: importing models here will register your custom models with Classy Vision\n",
    "# so that it can instantiate them appropriately from the checkpoint file\n",
    "# See more information at https://classyvision.ai/api/models.html#classy_vision.models.register_model\n",
    "import models\n",
    "\n",
    "# Update this with your actual directory:\n",
    "checkpoint_dir = './output_<timestamp>/checkpoints'\n",
    "checkpoint_data = load_checkpoint(checkpoint_dir)\n",
    "model = ClassyModel.from_checkpoint(checkpoint_data)\n",
    "model"
   ]
  },
  {
   "cell_type": "markdown",
   "metadata": {},
   "source": [
    "That's it! You can now use that model for inference as usual.\n",
    "\n",
    "## 5. Resuming from checkpoints\n",
    "\n",
    "Resuming from a checkpoint is as simple as training: `classy_train.py` takes a `--checkpoint_load_path` argument, which specifies the checkpoint path to resume from:"
   ]
  },
  {
   "cell_type": "code",
   "execution_count": null,
   "metadata": {},
   "outputs": [],
   "source": [
    "! ./classy_train.py --config configs/template_config.json --checkpoint_load_path ./output_<timestamp>/checkpoints"
   ]
  },
  {
   "cell_type": "markdown",
   "metadata": {},
   "source": [
    "## 6. Interactive development\n",
    "\n",
    "Training scripts and configuration files are useful for running large training jobs on a GPU cluster (see our [AWS tutorial](https://classyvision.ai/tutorials/ray_aws)), but a lot of day-to-day work happens interactively within Jupyter notebooks. Classy Vision is designed as a library that can be used without our built-in training scripts. Let's take a look at how to do the same training run as before, but within Jupyter instead of using `classy_train.py`:"
   ]
  },
  {
   "cell_type": "code",
   "execution_count": null,
   "metadata": {
    "collapsed": true
   },
   "outputs": [],
   "source": [
    "import classy_vision"
   ]
  },
  {
   "cell_type": "code",
   "execution_count": null,
   "metadata": {
    "collapsed": true
   },
   "outputs": [],
   "source": [
    "from datasets.my_dataset import MyDataset\n",
    "from models.my_model import MyModel\n",
    "from losses.my_loss import MyLoss\n",
    "from classy_vision.dataset.transforms import GenericImageTransform\n",
    "from torchvision import transforms\n",
    "\n",
    "train_dataset = MyDataset(\n",
    "    batchsize_per_replica=32,\n",
    "    shuffle=False,\n",
    "    transform=GenericImageTransform(\n",
    "        transform=transforms.Compose(\n",
    "            [\n",
    "                transforms.RandomResizedCrop(224),\n",
    "                transforms.RandomHorizontalFlip(),\n",
    "                transforms.ToTensor(),\n",
    "                transforms.Normalize(\n",
    "                    mean=[0.485, 0.456, 0.406], std=[0.229, 0.224, 0.225]\n",
    "                ),\n",
    "            ]\n",
    "        )\n",
    "    ),\n",
    "    num_samples=100,\n",
    "    crop_size=224,\n",
    "    class_ratio=0.5,\n",
    "    seed=0,\n",
    ")\n",
    "\n",
    "test_dataset = MyDataset(\n",
    "    batchsize_per_replica=32,\n",
    "    shuffle=False,\n",
    "    transform=GenericImageTransform(\n",
    "        transform=transforms.Compose(\n",
    "            [\n",
    "                transforms.Resize(256),\n",
    "                transforms.CenterCrop(224),\n",
    "                transforms.ToTensor(),\n",
    "                transforms.Normalize(\n",
    "                    mean=[0.485, 0.456, 0.406], std=[0.229, 0.224, 0.225]\n",
    "                ),\n",
    "            ]\n",
    "        )\n",
    "    ),\n",
    "    num_samples=100,\n",
    "    crop_size=224,\n",
    "    class_ratio=0.5,\n",
    "    seed=0,\n",
    ")\n"
   ]
  },
  {
   "cell_type": "code",
   "execution_count": null,
   "metadata": {
    "collapsed": true
   },
   "outputs": [],
   "source": [
    "from classy_vision.tasks import ClassificationTask\n",
    "from classy_vision.optim import SGD\n",
    "from classy_vision.optim.param_scheduler import LinearParamScheduler\n",
    "\n",
    "model = MyModel()\n",
    "loss = MyLoss()\n",
    "\n",
    "optimizer = SGD(momentum=0.9, weight_decay=1e-4, nesterov=True)\n",
    "optimizer.set_param_schedulers(\n",
    "    {\"lr\": LinearParamScheduler(start_lr=0.01, end_lr=0.009)}\n",
    ")\n",
    "\n",
    "from classy_vision.trainer import LocalTrainer\n",
    "\n",
    "task = ClassificationTask() \\\n",
    "        .set_model(model) \\\n",
    "        .set_dataset(train_dataset, \"train\") \\\n",
    "        .set_dataset(test_dataset, \"test\") \\\n",
    "        .set_loss(loss) \\\n",
    "        .set_optimizer(optimizer) \\\n",
    "        .set_num_epochs(1)\n",
    "\n",
    "trainer = LocalTrainer()\n",
    "trainer.train(task)"
   ]
  },
  {
   "cell_type": "markdown",
   "metadata": {},
   "source": [
    "That's it! Your model is trained now and ready for inference:"
   ]
  },
  {
   "cell_type": "code",
   "execution_count": null,
   "metadata": {
    "collapsed": true
   },
   "outputs": [],
   "source": [
    "import torch\n",
    "x = torch.randn((1, 3, 224, 224))\n",
    "with torch.no_grad():\n",
    "    y_hat = model(x)\n",
    "\n",
    "y_hat"
   ]
  },
  {
   "cell_type": "markdown",
   "metadata": {},
   "source": [
    "## 7. Training a ResNet 50 on ImageNet\n",
    "\n",
    "We have looked at training models using synthetic data so far. A more typical workflow involves training a model on a real world dataset like [ImageNet](http://image-net.org/), which we will cover in this section.\n",
    "\n",
    "To be able to train using ImageNet, first download the dataset archives from http://image-net.org/. Then, extract the data to a format expected by [`torchvision.datasets.ImageFolder`](https://pytorch.org/docs/stable/torchvision/datasets.html#imagefolder) inside subdirectories for the individual splits (`train` and `val`). We can then pass the root path containing these archives to the [`ImageNetDataset`](https://classyvision.ai/api/dataset.html#classy_vision.dataset.ImageNetDataset).\n",
    "\n",
    "The following configuration can be used to train a ResNet 50 on ImageNet to `76.4%` top-1 accuracy in 90 epochs. The optimizer configuration uses SGD with momentum, gradual learning rate warm up for the first 5 epochs and 1/10 learning rate drops at epochs 30, 60 and 80. The learning rate is calculated for a setup with 32 GPUs and can be scaled based on the overall batch size [1]."
   ]
  },
  {
   "cell_type": "code",
   "execution_count": 4,
   "metadata": {
    "collapsed": true
   },
   "outputs": [],
   "source": [
    "config = {\n",
    "    \"name\": \"classification_task\",\n",
    "    \"num_epochs\": 90,\n",
    "    \"loss\": {\n",
    "        \"name\": \"CrossEntropyLoss\"\n",
    "    },\n",
    "    \"dataset\": {\n",
    "        \"train\": {\n",
    "            \"name\": \"classy_imagenet\",\n",
    "            \"split\": \"train\",\n",
    "            \"batchsize_per_replica\": 32,\n",
    "            \"num_samples\": None,\n",
    "            \"use_shuffle\": True,\n",
    "            \"root\": \"/path/to/imagenet/\"  # replace with path to the extracted dataset\n",
    "        },\n",
    "        \"test\": {\n",
    "            \"name\": \"classy_imagenet\",\n",
    "            \"split\": \"val\",\n",
    "            \"batchsize_per_replica\": 32,\n",
    "            \"num_samples\": None,\n",
    "            \"use_shuffle\": False,\n",
    "            \"root\": \"/path/to/imagenet/\"  # replace with path to the extracted dataset\n",
    "        }\n",
    "    },\n",
    "    \"meters\": {\n",
    "        \"accuracy\": {\n",
    "            \"topk\": [1, 5]\n",
    "        }\n",
    "    },\n",
    "    \"model\": {\n",
    "        \"name\": \"resnet\",\n",
    "        \"num_blocks\": [3, 4, 6, 3],\n",
    "        \"small_input\": False,\n",
    "        \"zero_init_bn_residuals\": True,\n",
    "        \"heads\": [\n",
    "          {\n",
    "            \"name\": \"fully_connected\",\n",
    "            \"unique_id\": \"default_head\",\n",
    "            \"num_classes\": 1000,\n",
    "            \"fork_block\": \"block3-2\",\n",
    "            \"in_plane\": 2048\n",
    "          }\n",
    "        ]\n",
    "    },\n",
    "    \"optimizer\": {\n",
    "        \"name\": \"sgd\",\n",
    "        \"param_schedulers\": {\n",
    "            \"lr\": {\n",
    "                \"name\": \"composite\",\n",
    "                \"schedulers\": [\n",
    "                    {\"name\": \"linear\", \"start_lr\": 0.1, \"end_lr\": 0.4},\n",
    "                    {\"name\": \"multistep\", \"values\": [0.4, 0.04, 0.004, 0.0004], \"milestones\": [30, 60, 80]}\n",
    "                ],\n",
    "                \"update_interval\": \"epoch\",\n",
    "                \"interval_scaling\": [\"rescaled\", \"fixed\"],\n",
    "                \"lengths\": [0.0555, 0.9445]\n",
    "            }\n",
    "        },\n",
    "        \"weight_decay\": 1e-4,\n",
    "        \"momentum\": 0.9\n",
    "    }\n",
    "}"
   ]
  },
  {
   "cell_type": "markdown",
   "metadata": {},
   "source": [
    "## 8. Conclusion\n",
    "\n",
    "In this tutorial, we learned how to start a new project using Classy Vision, how to perform tranining locally and how to do multi-gpu training on a single machine. We also saw how to use Tensorboard to visualize training progress, how to load models from checkpoints and how resume training from a checkpoint file. We also went over how to use the ImageNet dataset to train a ResNet 50. In the next tutorials, we'll look into how to add custom datasets, models and loss functions to Classy Vision so you can adapt it to your needs, and how to launch distributed training on multiple nodes."
   ]
  },
  {
   "cell_type": "markdown",
   "metadata": {},
   "source": [
    "## 9. References\n",
    "\n",
    "[1] Goyal, Priya, et al. \"Accurate, large minibatch sgd: Training imagenet in 1 hour.\" arXiv preprint arXiv:1706.02677 (2017)."
   ]
  },
  {
   "cell_type": "code",
   "execution_count": null,
   "metadata": {
    "collapsed": true
   },
   "outputs": [],
   "source": []
  }
 ],
 "metadata": {
  "bento_stylesheets": {
   "bento/extensions/flow/main.css": true,
   "bento/extensions/kernel_selector/main.css": true,
   "bento/extensions/kernel_ui/main.css": true,
   "bento/extensions/new_kernel/main.css": true,
   "bento/extensions/system_usage/main.css": true,
   "bento/extensions/theme/main.css": true
  },
  "kernelspec": {
   "display_name": "Python 3",
   "language": "python",
   "name": "python3"
  },
  "language_info": {
   "codemirror_mode": {
    "name": "ipython",
    "version": 3
   },
   "file_extension": ".py",
   "mimetype": "text/x-python",
   "name": "python",
   "nbconvert_exporter": "python",
   "pygments_lexer": "ipython3",
   "version": "3.7.3"
  }
 },
 "nbformat": 4,
 "nbformat_minor": 2
}
