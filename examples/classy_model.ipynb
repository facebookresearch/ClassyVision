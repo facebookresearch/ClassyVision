{
 "cells": [
  {
   "cell_type": "markdown",
   "metadata": {},
   "source": [
    "### Creating a Classy Model"
   ]
  },
  {
   "cell_type": "markdown",
   "metadata": {},
   "source": [
    "Creating a new model in Classy Vision is the simple as creating one within PyTorch. The model needs to derive from `ClassyModel` (which inherits from [`torch.nn.Module`](https://pytorch.org/docs/stable/nn.html#module)), call `super().__init()` with the appropriate args, and implement a `forward` method."
   ]
  },
  {
   "cell_type": "markdown",
   "metadata": {},
   "source": [
    "In this tutorial, we will focus on creating an image model, so it should expect an input tensor of shape `(N, C, H, W)`, where `N` is the batch size, `C` is the number of channels, `H` and `W` are the height and width of the image, respectively."
   ]
  },
  {
   "cell_type": "code",
   "execution_count": 1,
   "metadata": {
    "collapsed": true
   },
   "outputs": [],
   "source": [
    "import torch.nn as nn\n",
    "\n",
    "from classy_vision.models import ClassyModel\n",
    "\n",
    "\n",
    "class MyModel(ClassyModel):\n",
    "    def __init__(self, num_classes):\n",
    "        super().__init__(num_classes)\n",
    "        # create an average pool layer\n",
    "        self.avgpool = nn.AdaptiveAvgPool2d((1, 1))\n",
    "        # we expect an RGB image\n",
    "        num_channels = 3\n",
    "        self.fc = nn.Linear(num_channels, num_classes)\n",
    "        \n",
    "    def forward(self, x):\n",
    "        # perform average pooling\n",
    "        out = self.avgpool(x)\n",
    "\n",
    "        # reshape the output and apply the fc layer\n",
    "        out = out.reshape(out.size(0), -1)\n",
    "        out = self.fc(out)\n",
    "        return out"
   ]
  },
  {
   "cell_type": "markdown",
   "metadata": {},
   "source": [
    "Now we can start using this model for training."
   ]
  },
  {
   "cell_type": "code",
   "execution_count": 2,
   "metadata": {
    "collapsed": true
   },
   "outputs": [],
   "source": [
    "from classy_vision.tasks import ClassificationTask\n",
    "\n",
    "my_model = MyModel(num_classes=1000)\n",
    "my_task = ClassificationTask().set_model(my_model)"
   ]
  },
  {
   "cell_type": "markdown",
   "metadata": {},
   "source": [
    "To be able to use the registration mechanism to be able to pick up the model from a configuration, we need to do two additional things -\n",
    "- Implement a `from_config` method\n",
    "- Add the `register_model` decorator to `MyModel`"
   ]
  },
  {
   "cell_type": "code",
   "execution_count": 3,
   "metadata": {
    "collapsed": true
   },
   "outputs": [],
   "source": [
    "import torch.nn as nn\n",
    "\n",
    "from classy_vision.models import ClassyModel, register_model\n",
    "\n",
    "\n",
    "@register_model(\"my_model\")\n",
    "class MyModel(ClassyModel):\n",
    "    def __init__(self, num_classes):\n",
    "        super().__init__(num_classes)\n",
    "        # create an average pool layer\n",
    "        self.avgpool = nn.AdaptiveAvgPool2d((1, 1))\n",
    "        # we expect an RGB image\n",
    "        num_channels = 3\n",
    "        self.fc = nn.Linear(num_channels, num_classes)\n",
    "\n",
    "    @classmethod\n",
    "    def from_config(cls, config):\n",
    "        if \"num_classes\" not in config:\n",
    "            raise ValueError('Need \"num_classes\" in config for MyModel')\n",
    "        return cls(num_classes=config[\"num_classes\"])\n",
    "        \n",
    "    def forward(self, x):\n",
    "        # perform average pooling\n",
    "        out = self.avgpool(x)\n",
    "\n",
    "        # reshape the output and apply the fc layer\n",
    "        out = out.reshape(out.size(0), -1)\n",
    "        out = self.fc(out)\n",
    "        return out"
   ]
  },
  {
   "cell_type": "markdown",
   "metadata": {},
   "source": [
    "Now we can start using this model in our configurations."
   ]
  },
  {
   "cell_type": "code",
   "execution_count": 4,
   "metadata": {
    "collapsed": true
   },
   "outputs": [],
   "source": [
    "from classy_vision.models import build_model\n",
    "\n",
    "model_config = {\n",
    "    \"name\": \"my_model\",\n",
    "    \"num_classes\": 1000\n",
    "}\n",
    "my_model = build_model(model_config)\n",
    "assert isinstance(my_model, MyModel)"
   ]
  }
 ],
 "metadata": {
  "bento_stylesheets": {
   "bento/extensions/flow/main.css": true,
   "bento/extensions/kernel_selector/main.css": true,
   "bento/extensions/kernel_ui/main.css": true,
   "bento/extensions/new_kernel/main.css": true,
   "bento/extensions/system_usage/main.css": true,
   "bento/extensions/theme/main.css": true
  },
  "kernelspec": {
   "display_name": "Classy Vision",
   "language": "python",
   "name": "bento_kernel_classy_vision"
  },
  "language_info": {
   "codemirror_mode": {
    "name": "ipython",
    "version": 3
   },
   "file_extension": ".py",
   "mimetype": "text/x-python",
   "name": "python",
   "nbconvert_exporter": "python",
   "pygments_lexer": "ipython3",
   "version": "3.7.5+"
  }
 },
 "nbformat": 4,
 "nbformat_minor": 2
}
