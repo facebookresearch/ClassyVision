{
 "cells": [
  {
   "cell_type": "markdown",
   "metadata": {},
   "source": [
    "# Elastic training with Classy Vision\n",
    "\n",
    "This tutorial will demonstrate how to launch an training job on Amazon Web Services ([AWS](https://aws.amazon.com/)) using [PyTorch Elastic](https://github.com/pytorch/elastic) and Classy Vision.\n",
    "\n",
    "## Prerequisites\n",
    "\n",
    "1. Familiarity with basic AWS (EC2, Auto Scaling Groups, S3, EFS).\n",
    "2. (suggested) install and setup [`awscli`](https://docs.aws.amazon.com/cli/latest/userguide/cli-chap-install.html).\n",
    "3. Basic knowledge of containers (we use Docker in our examples).\n",
    "\n",
    "## 1. Setup"
   ]
  },
  {
   "cell_type": "markdown",
   "metadata": {},
   "source": [
    "Download the PyTorch Elastic repository and install it. Run in your terminal:"
   ]
  },
  {
   "cell_type": "code",
   "execution_count": null,
   "metadata": {},
   "outputs": [],
   "source": [
    "! git clone https://github.com/pytorch/elastic.git\n",
    "! pip install torchelastic"
   ]
  },
  {
   "cell_type": "markdown",
   "metadata": {},
   "source": [
    "Install the required dependencies for AWS:"
   ]
  },
  {
   "cell_type": "code",
   "execution_count": null,
   "metadata": {},
   "outputs": [],
   "source": [
    "% cd elastic/aws\n",
    "! pip install -r requirements.txt"
   ]
  },
  {
   "cell_type": "markdown",
   "metadata": {},
   "source": [
    "Make sure you are familiar with the following AWS resources:\n",
    "\n",
    "  1. EC2 [instance profile](https://docs.aws.amazon.com/IAM/latest/UserGuide/id_roles_use_switch-role-ec2_instance-profiles.html)\n",
    "  2. EC2 [key pair](https://docs.aws.amazon.com/AWSEC2/latest/UserGuide/ec2-key-pairs.html)\n",
    "  3. [Subnet(s)](https://docs.aws.amazon.com/vpc/latest/userguide/default-vpc.html#create-default-subnet)\n",
    "  4. [Security group](https://docs.aws.amazon.com/vpc/latest/userguide/VPC_SecurityGroups.html#DefaultSecurityGroup)\n",
    "  5. EFS volume\n",
    "  6. S3 bucket\n",
    "  \n",
    "[Install](https://docs.aws.amazon.com/systems-manager/latest/userguide/session-manager-working-with-install-plugin.html)\n",
    " the AWS Session Manager plugin."
   ]
  },
  {
   "cell_type": "markdown",
   "metadata": {},
   "source": [
    "## 2. Create the cluster\n",
    "\n",
    "`petctl` is a commandline tool that helps run distributed jobs written with torchelastic on EC2 instances. It's available in the `aws` directory of the `torchelastic` repo. To get started, run this on your terminal:\n",
    "\n",
    "```bash\n",
    "python3 petctl.py setup\n",
    "```\n",
    "\n",
    "This will bootstrap all the AWS resources required to run a torchelastic\n",
    "job. For details take a look at the CloudFormation [template](cfn/setup.yml) .\n",
    "\n",
    "Use `--s3_bucket` and `--efs_id` to use an existing S3 bucket and EFS \n",
    "file system. Otherwise an S3 bucket and EFS volume will be created.\n",
    "\n",
    "> **IMPORTANT** when specifying `--efs_id` you MUST ensure that NO mount targets\n",
    "exist on the EFS file system. torchelastic's cfn stack will attempt to create\n",
    "mount targets for the subnets it creates and WILL FAIL if the file system already\n",
    "has mount targets on a different VPC. For more information refer to \n",
    "the [EFS docs](https://docs.aws.amazon.com/efs/latest/ug/accessing-fs.html). \n",
    "\n",
    "**TIP:** If the stack creation fails, log into the CloudFormation console, inspect\n",
    "the failure reason, address the failure, then manually delete the stack and re-run\n",
    "`petctl configure`.\n",
    "\n",
    "If you are familiar with AWS or already have the resources specified in the \n",
    "**Requirements** section above, then you can follow the [Manual Setup](https://github.com/pytorch/elastic/blob/master/aws/README.md) instructions\n",
    "in the `torchelastic` repository. Simply copy the sample specs file and fill\n",
    "in the template, then run `python petctl.py configure`. "
   ]
  },
  {
   "cell_type": "markdown",
   "metadata": {},
   "source": [
    "## 3. Create your Classy Vision project\n",
    "\n",
    "If you already have a Classy Vision project to use with `torchelastic`, great! You only need to modify `classy_train.py` to use an `ElasticTrainer` instead of a `DistributedTrainer`. See our [getting started](https://classyvision.ai/tutorials/getting_started) tutorial for more details about `classy_train.py`.\n",
    "\n",
    "To make things easier, we provided an example of how to use `ElasticTrainer`: it's under `./examples/classy_vision/main.py` in the `torchelastic` repo. You can start by copying that file and use it to replace `classy_train.py`."
   ]
  },
  {
   "cell_type": "markdown",
   "metadata": {},
   "source": [
    "\n",
    "## 4. Start training\n",
    "\n",
    "Normally you would run the training script directly to start training. For elastic training, we'll use `petctl` to launch it. Here's how you launch our example script in your terminal:\n",
    "\n",
    "``` bash\n",
    "python3 aws/petctl.py run_job --size 2 --min_size 2 --max_size 2 --name ${USER}-job examples/classy_vision/main.py -- --config_file classy-vision://configs/resnet50_synthetic_image_classy_config.json --num_workers 0```\n"
   ]
  },
  {
   "cell_type": "markdown",
   "metadata": {},
   "source": [
    "In the example above, the named arguments, such as, `--size` , `--min_size`, and\n",
    "`--max_size` are parameters to the `run_job` sub-command of `petctl`. In the example\n",
    "above, we created an **elastic** job where the initial worker `--size=2`, we are\n",
    "allowed to scale down to `--min_size` and up to `--max_size`. This is used by\n",
    "torchelastic's rendezvous algorithm to determine how many nodes to admit on each\n",
    "re-rendezvous before considering the group *final* and start the `train_step`.\n",
    "\n",
    "Because all the size parameters are the same in this case, that means we are disabling elasticity. You might want to do that for reproducibility reasons, for instance. Training this way still provides benefits, since `torchelastic`  increases robustness: when a node fails, we can start a new node and resume training from the last minibatch, without reverting back to the previous checkpoint. \n",
    "\n",
    "The other positional arguments have the form:\n",
    "\n",
    "```\n",
    "[local script] -- [script args ...]\n",
    "  -- or -- \n",
    "[local directory] -- [script] [script args...]\n",
    "```\n",
    "\n",
    "If the first positional argument is a path to a script file, then the script\n",
    "is uploaded to S3 and the script arguments specified after the `--` delimiter\n",
    "are passed through to the script.\n",
    "\n",
    "If the first positional argument is a directory, then a tarball of the directory\n",
    "is created and uploaded to S3 and is extracted on the worker-side. In this case\n",
    "the first argument after the `--` delimiter is the path to the script **relative** to the\n",
    "specified directory and the rest of the arguments after the delimiter is passed \n",
    "to the script.\n",
    "\n",
    "\n",
    "In our example we specified\n",
    "```\n",
    "petctl.py run_job [...] classy_vision/main.py --config_file [...]\n",
    "```\n",
    "\n",
    "We could have decided to specify the directory instead\n",
    "```\n",
    "petctl.py run_job [...] classy_vision -- main.py --config_file [...]\n",
    "```\n",
    "\n",
    "**TIP 1:** Besides a local script or directory you can run with scripts or `tar` files\n",
    "that have already been uploaded to S3 or directly point it to a file or directory\n",
    "on the container.\n",
    "``` bash\n",
    "python3 petctl.py run_job [...] s3://my-bucket/my_script.py\n",
    "python3 petctl.py run_job [...] s3://my-bucket/my_dir.tar.gz -- my_script.py\n",
    "\n",
    "# or\n",
    "python3 petctl.py run_job [...] docker:///abs/path/in/container/dir -- my_script.py\n",
    "python3 petctl.py run_job [...] docker://rel/path/in/container/dir/my_script.py\n",
    "```\n",
    "\n",
    "**TIP 2:** To iterate quickly, simply make changes to your local script and\n",
    "upload the script to S3 using\n",
    "```bash \n",
    "python3 petctl.py upload examples/imagenet/main.py s3://<bucket>/<prefix>/<job_name> \n",
    "```\n",
    "\n",
    "**TIP 3:** Use the EFS volume attached on `/mnt/efs/fs1` on all the workers to \n",
    "save input data, checkpoints and job output.\n",
    "\n",
    "Once the `run_job` command returns log into the EC2 console, you will see two\n",
    "Auto Scaling Groups\n",
    "1. etcd server \n",
    "2. workers\n",
    "\n",
    "## 5. Inspect the logs\n",
    "Log into the AWS CloudWatch Logs console. You should see a log group called\n",
    "`torchelastic/$USER`. Under it there will be a log stream per instance with the \n",
    "name `$job_name/$instance_id` (e.g. `my_job/i0b938EXAMPLE`).\n",
    "\n",
    "#### Troubleshooting\n",
    "To SSH onto the worker nodes to debug/inspect the worker process use AWS \n",
    "Session Manager instead of the ec2 key pair. [Install](https://docs.aws.amazon.com/systems-manager/latest/userguide/session-manager-working-with-install-plugin.html)\n",
    " the Session Manager plugin and run\n",
    "\n",
    "``` bash\n",
    "# get the instance ids of the workers\n",
    "python3 petctl.py list_hosts <job_name>\n",
    "\n",
    "# ssh onto one of the workers\n",
    "awscli ssm start-session --target <instance_id>\n",
    " -- example --\n",
    "awscli ssm start-session --target i-00b00EXAMPLE\n",
    "```\n",
    "\n",
    "Once SSH'ed, the workers run in a docker container managed by `systemd`.\n",
    "You can take a look at their console outputs by running\n",
    "\n",
    "``` bash\n",
    "# see the status of the worker\n",
    "sudo systemctl status torchelastic_worker\n",
    "# get the container id\n",
    "sudo docker ps\n",
    "# tail the container logs\n",
    "sudo docker logs -f <container id>\n",
    "```\n",
    "\n",
    "You can also manually stop and start the workers by running\n",
    "``` bash\n",
    "sudo systemctl stop torchelastic_worker\n",
    "sudo systemctl start torchelastic_worker\n",
    "```"
   ]
  },
  {
   "cell_type": "markdown",
   "metadata": {},
   "source": [
    "> **EXERCISE:** Open up two terminals and SSH onto each worker. Tail the docker logs\n",
    "on each worker. Now stop worker 1 and observe the worker 2 re-rendezvous and\n",
    "since `--min_size=1` it continues training by itself. Now restart worker 1 and\n",
    "observe that worker 2 notices that worker 1 is waiting to join and re-rendezvous,\n",
    "the `state` object in worker 2 is `sync()`'ed to worker 1 and both resume training\n",
    "without loss of progress."
   ]
  },
  {
   "cell_type": "markdown",
   "metadata": {},
   "source": [
    "> **Note**: by design, `petctl` tries to use the least number of AWS services. This\n",
    "was done intentionally to allow non-AWS users to easily transfer the functionality\n",
    "to their environment. Hence it currently does not have the functionality to query\n",
    "status of the job or to terminate the ASG when the job is done (there is nothing\n",
    "that is monitoring the job!). In practice consider using EKS, Batch, or SageMaker."
   ]
  },
  {
   "cell_type": "markdown",
   "metadata": {},
   "source": [
    "## 6. Stop training\n",
    "To stop the job and tear down the resources, use the `kill_job` command:\n",
    "\n",
    "``` bash\n",
    "python3 petctl.py kill_job ${USER}-job\n",
    "```\n",
    "\n",
    "You'll notice that the two ASGs created with the `run_job` command are deleted."
   ]
  }
 ],
 "metadata": {
  "kernelspec": {
   "display_name": "Python 3",
   "language": "python",
   "name": "python3"
  },
  "language_info": {
   "codemirror_mode": {
    "name": "ipython",
    "version": 3
   },
   "file_extension": ".py",
   "mimetype": "text/x-python",
   "name": "python",
   "nbconvert_exporter": "python",
   "pygments_lexer": "ipython3",
   "version": "3.6.7"
  }
 },
 "nbformat": 4,
 "nbformat_minor": 2
}
